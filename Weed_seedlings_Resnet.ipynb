{
  "nbformat": 4,
  "nbformat_minor": 0,
  "metadata": {
    "colab": {
      "private_outputs": true,
      "provenance": []
    },
    "kernelspec": {
      "name": "python3",
      "display_name": "Python 3"
    },
    "accelerator": "GPU"
  },
  "cells": [
    {
      "cell_type": "markdown",
      "metadata": {
        "id": "BCRlMatyHtGP"
      },
      "source": [
        "# **Broadleaf weed classification by using Resnet Model**\n",
        "\n",
        "**IMPORTANT**: Use GPU runtime environment.If you would like to use this acceleration, please select the menu option \"Runtime\" -> \"Change runtime type\", select \"Hardware Accelerator\" -> \"GPU\" and click \"SAVE\" "
      ]
    },
    {
      "cell_type": "markdown",
      "metadata": {
        "id": "x9vEalWQ_owl"
      },
      "source": [
        "## 1. Import dependencies"
      ]
    },
    {
      "cell_type": "code",
      "metadata": {
        "id": "5CE1fhCXQn6-"
      },
      "source": [
        "!pip install import-ipynb\n",
        "!pip install wandb"
      ],
      "execution_count": null,
      "outputs": []
    },
    {
      "cell_type": "code",
      "metadata": {
        "id": "YcwGTSIoQ2jS"
      },
      "source": [
        "from google.colab import drive\n",
        "from torchvision import datasets, models, transforms, utils\n",
        "from os import path\n",
        "from copy import deepcopy\n",
        "import torch\n",
        "import import_ipynb\n",
        "import torch.nn as nn\n",
        "import torch.optim as optim"
      ],
      "execution_count": null,
      "outputs": []
    },
    {
      "cell_type": "markdown",
      "metadata": {
        "id": "daeqYi0XDKoD"
      },
      "source": [
        "## 2. Install Google drive and set path to Train - Val dataset"
      ]
    },
    {
      "cell_type": "code",
      "metadata": {
        "id": "g4PXF1LmntfG"
      },
      "source": [
        "drive.mount('/content/drive')\n",
        "data_dir = '/content/drive/My Drive/DeepLearning Malezas/familias latifoliadas1/dataset'"
      ],
      "execution_count": null,
      "outputs": []
    },
    {
      "cell_type": "code",
      "metadata": {
        "id": "nQUAbtWlRh6e"
      },
      "source": [
        "#%cd \"/content/drive/My Drive/Colab Notebooks/Codes/\"\n",
        "%cd \"/content/drive/My Drive/DeepLearning Malezas/Codes\"\n",
        "import myFunctions"
      ],
      "execution_count": null,
      "outputs": []
    },
    {
      "cell_type": "markdown",
      "metadata": {
        "id": "ZNZrOioNG8TQ"
      },
      "source": [
        "## 3. Data Reading"
      ]
    },
    {
      "cell_type": "code",
      "metadata": {
        "id": "hJU4QYnwjRMc"
      },
      "source": [
        "images = myFunctions.myImages('/content/drive/My Drive/DeepLearning Malezas/familias latifoliadas 2/DK+CL_full', 224, test_dir = '/content/drive/My Drive/DeepLearning Malezas/familias latifoliadas 2/DK+CL_full')"
      ],
      "execution_count": null,
      "outputs": []
    },
    {
      "cell_type": "markdown",
      "metadata": {
        "id": "zThVEEF9Cr72"
      },
      "source": [
        "## 4. Check Device"
      ]
    },
    {
      "cell_type": "code",
      "metadata": {
        "id": "6EKYhIWWnzWh"
      },
      "source": [
        "images.device"
      ],
      "execution_count": null,
      "outputs": []
    },
    {
      "cell_type": "markdown",
      "metadata": {
        "id": "yZtNoRQzRQmG"
      },
      "source": [
        "## 5. Check dataset size"
      ]
    },
    {
      "cell_type": "code",
      "metadata": {
        "id": "2VKVdNkfn-RI"
      },
      "source": [
        "image_datasets = images.image_datasets\n",
        "dataloaders = images.dataloaders\n",
        "dataset_sizes = images.dataset_sizes\n",
        "class_names = images.class_names"
      ],
      "execution_count": null,
      "outputs": []
    },
    {
      "cell_type": "code",
      "metadata": {
        "id": "IT1B6UNRpSMf"
      },
      "source": [
        "images.imshow()"
      ],
      "execution_count": null,
      "outputs": []
    },
    {
      "cell_type": "code",
      "metadata": {
        "id": "fddXEdGhq962"
      },
      "source": [
        "dataset_sizes"
      ],
      "execution_count": null,
      "outputs": []
    },
    {
      "cell_type": "markdown",
      "metadata": {
        "id": "x8mPk787RcKf"
      },
      "source": [
        "## 6. Check class names (weed families on dataset) and random sample preview"
      ]
    },
    {
      "cell_type": "code",
      "metadata": {
        "id": "mcAwge1HrD_D"
      },
      "source": [
        "class_names"
      ],
      "execution_count": null,
      "outputs": []
    },
    {
      "cell_type": "markdown",
      "metadata": {
        "id": "gw9Y2TyDTyq-"
      },
      "source": [
        "## 7. Download pretrained model version from pytorch and set hyperparameters\n",
        "\n",
        "(Model Pretrained on Imagenet dataset)"
      ]
    },
    {
      "cell_type": "code",
      "metadata": {
        "id": "-gXzbkYZWWJR"
      },
      "source": [
        "model = models.resnet50(pretrained=True)"
      ],
      "execution_count": null,
      "outputs": []
    },
    {
      "cell_type": "code",
      "metadata": {
        "id": "IR86FEzdnp2Q"
      },
      "source": [
        "for param in model.parameters():\n",
        "  param.requires_grad = False\n",
        "model.fc = nn.Linear(2048, 4)"
      ],
      "execution_count": null,
      "outputs": []
    },
    {
      "cell_type": "code",
      "metadata": {
        "id": "2t6eoLSaMKeK"
      },
      "source": [
        "modelGPU = model.to(images.device)\n",
        "opt = optim.SGD(modelGPU.parameters(), lr=0.001, momentum=0.9)\n",
        "sch = optim.lr_scheduler.StepLR(opt, step_size=7, gamma=0.1)"
      ],
      "execution_count": null,
      "outputs": []
    },
    {
      "cell_type": "markdown",
      "metadata": {
        "id": "P6zYBLfHUwhM"
      },
      "source": [
        "## 8. Train weed clasification model\n",
        "\n",
        "- considering : train-val dataset, training setup and the pretrained model version"
      ]
    },
    {
      "cell_type": "code",
      "metadata": {
        "id": "UggzMYOJWbM5"
      },
      "source": [
        "images.train_model(modelGPU, nn.CrossEntropyLoss(), opt, sch, num_epochs=15, name='feature-extraction_traivalDK--->DK')"
      ],
      "execution_count": null,
      "outputs": []
    },
    {
      "cell_type": "code",
      "metadata": {
        "id": "1sf0VVVHg5Lj"
      },
      "source": [
        "torch.save(images.model.state_dict(), \"/content/drive/MyDrive/DeepLearning Malezas/Modelos/Resnet50/Resnet_CLDK->CLDK_featurex_.h5\")\n",
        "featex = deepcopy(images.model)"
      ],
      "execution_count": null,
      "outputs": []
    },
    {
      "cell_type": "markdown",
      "metadata": {
        "id": "vFkacivHg0Iz"
      },
      "source": [
        "## 8. Train weed clasification model\n",
        "\n",
        "- considering : train-val dataset, training setup and the pretrained model version"
      ]
    },
    {
      "cell_type": "code",
      "metadata": {
        "id": "BnrE1aY8-cqt"
      },
      "source": [
        "model = models.resnet50(pretrained=True)"
      ],
      "execution_count": null,
      "outputs": []
    },
    {
      "cell_type": "code",
      "metadata": {
        "id": "vG0irkZqhZRa"
      },
      "source": [
        "for param in model.parameters():\n",
        "  param.requires_grad = True\n",
        "model.fc = nn.Linear(2048, 4)"
      ],
      "execution_count": null,
      "outputs": []
    },
    {
      "cell_type": "code",
      "metadata": {
        "id": "7JKIBRIdni5H"
      },
      "source": [
        "modelGPU = model.to(images.device)\n",
        "opt = optim.SGD(modelGPU.parameters(), lr=0.001, momentum=0.9)\n",
        "sch = optim.lr_scheduler.StepLR(opt, step_size=7, gamma=0.1)"
      ],
      "execution_count": null,
      "outputs": []
    },
    {
      "cell_type": "code",
      "metadata": {
        "id": "YAKr6FPHg0I1"
      },
      "source": [
        "images.train_model(modelGPU, nn.CrossEntropyLoss(), opt, sch, num_epochs=15, name='fine-tunning_TrValDK+CL--->TestDK')"
      ],
      "execution_count": null,
      "outputs": []
    },
    {
      "cell_type": "code",
      "metadata": {
        "id": "ukGG55don6-a"
      },
      "source": [
        "torch.save(images.model.state_dict(), \"/content/drive/MyDrive/DeepLearning Malezas/Modelos/Resnet50/Resnet_CLDK->CLDK_finetune.h5\")\n",
        "finetune = deepcopy(images.model)"
      ],
      "execution_count": null,
      "outputs": []
    }
  ]
}